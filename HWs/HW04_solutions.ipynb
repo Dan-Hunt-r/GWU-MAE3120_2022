{
 "cells": [
  {
   "cell_type": "markdown",
   "metadata": {},
   "source": [
    "# HW 04 Solutions"
   ]
  },
  {
   "cell_type": "markdown",
   "metadata": {},
   "source": [
    "1.  (a) output is 0-5 V\n",
    "\n",
    "(b) best DAS input range would be 0-10 V, there will be clipping otherwise.\n",
    "\n",
    "(c) Pressure transducer has 3 sources of elemental uncertainties: linearity, repeatability, and hysterisis.  We will use the RSS of the 3 elemental uncertainties to find the uncertainty in the pressure transducer.\n",
    "\n",
    "first we have to select a common unit to work with for the pressure transducer \n",
    "and the DAS.  Because the uncertainty in the PT are given in full scale (FS), it is preferrable to work in absolut voltages."
   ]
  },
  {
   "cell_type": "code",
   "execution_count": 2,
   "metadata": {},
   "outputs": [
    {
     "name": "stdout",
     "output_type": "stream",
     "text": [
      "linearity 0.0125 V\n",
      "repeatability 0.0030 V\n",
      "hysterisi 0.0050 V\n",
      "Uncertainty of pressure transducer, u_PT = 0.0138  V\n",
      "linearity 0.000305  V\n",
      "gain 0.000305  V\n",
      "quantization error 0.000076  V\n",
      "Uncertainty of DAS 0.000438  V\n"
     ]
    }
   ],
   "source": [
    "import numpy\n",
    "# Pressure transducer\n",
    "FS_PT = 5 # V\n",
    "\n",
    "u_PT_lin = 0.0025 * FS_PT # V\n",
    "u_PT_rep = 0.0006 * FS_PT # V\n",
    "u_PT_hys = 0.001 * FS_PT # V\n",
    "print(\"linearity %1.4f\" % u_PT_lin, 'V')\n",
    "print( \"repeatability %1.4f\" % u_PT_rep, 'V')\n",
    "print(\"hysterisi %1.4f\" % u_PT_hys, 'V')\n",
    "u_PT = numpy.sqrt(u_PT_lin**2 + u_PT_rep**2 + u_PT_hys**2)\n",
    "print(\"Uncertainty of pressure transducer, u_PT = %1.4f\" % u_PT , ' V')\n",
    "\n",
    "# DAS\n",
    "N = 16 # bits\n",
    "Range = 10 # V, guarantee no clipping\n",
    "Q = Range/2**(N+1) # V\n",
    "LSD = 2 * Q # V\n",
    "u_DAS_lin = 2 * LSD # V\n",
    "u_DAS_gain = 2 * LSD # V\n",
    "u_DAS = numpy.sqrt(u_DAS_lin**2 + u_DAS_gain**2 + Q**2)\n",
    "print(\"linearity %1.6f\" % u_DAS_lin, ' V')\n",
    "print(\"gain %1.6f\" % u_DAS_gain, ' V')\n",
    "print(\"quantization error %1.6f\" % Q, ' V')\n",
    "\n",
    "print(\"Uncertainty of DAS %1.6f\" %u_DAS, ' V')"
   ]
  },
  {
   "cell_type": "markdown",
   "metadata": {},
   "source": [
    "(d)  We use of the RSS of the PT and DAS to find the overall uncertainty of the system"
   ]
  },
  {
   "cell_type": "code",
   "execution_count": 3,
   "metadata": {},
   "outputs": [
    {
     "name": "stdout",
     "output_type": "stream",
     "text": [
      "overall uncertainty 0.013800  V\n"
     ]
    }
   ],
   "source": [
    "u_overall = numpy.sqrt(u_PT**2 + u_DAS**2)\n",
    "print(\"overall uncertainty %1.6f\" %u_overall, ' V')"
   ]
  },
  {
   "cell_type": "markdown",
   "metadata": {},
   "source": [
    "(e) The overall uncertainty is dominated by the pressure transducer.  I would try and replace it."
   ]
  },
  {
   "cell_type": "markdown",
   "metadata": {},
   "source": [
    "2. The overall accuracy is the RSS of the thermocouple and its display.  I would compute and report the uncertainties in $^\\circ C$."
   ]
  },
  {
   "cell_type": "code",
   "execution_count": 4,
   "metadata": {},
   "outputs": [
    {
     "name": "stdout",
     "output_type": "stream",
     "text": [
      "overall uncertainty is 0.7071 C\n"
     ]
    }
   ],
   "source": [
    "u_TC = 0.5 # C\n",
    "u_display = 0.5 # C\n",
    "u_overall_TC = numpy.sqrt(u_TC**2 + u_display**2)\n",
    "print(\"overall uncertainty is %1.4f\" % u_overall_TC, 'C')"
   ]
  },
  {
   "cell_type": "markdown",
   "metadata": {},
   "source": [
    "3. (a) Remember the ideal gas law:\n",
    "\\begin{align}\n",
    "\\rho = \\frac{P}{RT} = P^1 R^{-1} T^{-1}\n",
    "\\end{align}\n",
    "The ideal gas constant $R$ is very well known and we can assume it is know perfectly (ie its uncertainty is negligible).\n",
    "\n",
    "Using uncertainty of a result, one has:\n",
    "\\begin{align}\n",
    "\\frac{u_\\rho}{\\rho} = \\sqrt{\\left( 1 \\cdot \\frac{u_P}{P}\\right)^2 + \\left( -1 \\cdot \\frac{u_T}{T} \\right)^2}\n",
    "\\end{align}\n",
    "I need to select a unit for this analysis.  I will work as percentage error, which is ideal for the relative uncertainties I am using here, and convert to the appropriate unit when necessary."
   ]
  },
  {
   "cell_type": "code",
   "execution_count": 5,
   "metadata": {},
   "outputs": [
    {
     "name": "stdout",
     "output_type": "stream",
     "text": [
      "relative temperature uncertainty 0.3472 %\n",
      "relative uncertainty on density 0.6087  %\n"
     ]
    }
   ],
   "source": [
    "u_PP = 0.005 # relative\n",
    "u_T = 1 # K\n",
    "T = 288 # temperature is the thermodynamic temperature in Kelvin\n",
    "u_rhorho = numpy.sqrt(u_PP**2 + (u_T/T)**2)\n",
    "\n",
    "print(\"relative temperature uncertainty %1.4f\" % (u_T/T*100), '%')\n",
    "print(\"relative uncertainty on density %1.4f\" % (u_rhorho*100), ' %')"
   ]
  },
  {
   "cell_type": "markdown",
   "metadata": {},
   "source": [
    "(b)  If we increase the accuracy of the temperature measurement from $\\pm 1^\\circ C$ to $\\pm 0.5^\\circ C$, our relative error on temperature measurement is now halved, or $\\pm 0.1736\\%$, so we have hope to meet our resolution target on the density.  To solve this optimization problem, the trick is not to inverse the governing equation (the result) first, but to invert the uncertainty of a result equation...\n",
    "\n",
    "Starting from the equation above and taking the square of it:\n",
    "\\begin{align}\n",
    "\\left( \\frac{u_\\rho}{\\rho} \\right)^2 & = \\left( \\frac{u_P}{P}\\right)^2 + \\left( \\frac{u_T}{T} \\right)^2  \\\\\n",
    "\\left( \\frac{u_P}{P}\\right)^2 & = \\left( \\frac{u_\\rho}{\\rho} \\right)^2 - \\left( \\frac{u_T}{T} \\right)^2  \n",
    "\\end{align}"
   ]
  },
  {
   "cell_type": "code",
   "execution_count": 6,
   "metadata": {},
   "outputs": [
    {
     "name": "stdout",
     "output_type": "stream",
     "text": [
      "Relative pressure uncertainty must be no larger than 0.1799 %\n"
     ]
    }
   ],
   "source": [
    "u_TT = 0.5/288 # relative\n",
    "u_rhrh = 0.0025 # relative\n",
    "\n",
    "u_PP2 = numpy.sqrt(u_rhrh**2 - u_TT**2)\n",
    "print(\"Relative pressure uncertainty must be no larger than %1.4f\" % (u_PP2*100), '%')"
   ]
  },
  {
   "cell_type": "code",
   "execution_count": null,
   "metadata": {},
   "outputs": [],
   "source": []
  }
 ],
 "metadata": {
  "kernelspec": {
   "display_name": "Python 3",
   "language": "python",
   "name": "python3"
  },
  "language_info": {
   "codemirror_mode": {
    "name": "ipython",
    "version": 3
   },
   "file_extension": ".py",
   "mimetype": "text/x-python",
   "name": "python",
   "nbconvert_exporter": "python",
   "pygments_lexer": "ipython3",
   "version": "3.7.3"
  }
 },
 "nbformat": 4,
 "nbformat_minor": 2
}
